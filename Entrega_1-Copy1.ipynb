{
 "cells": [
  {
   "cell_type": "code",
   "execution_count": 1,
   "metadata": {
    "collapsed": true
   },
   "outputs": [],
   "source": [
    "import numpy as np\n",
    "import matplotlib.pyplot as plt\n",
    "import CoolProp.CoolProp as CP\n",
    "import scipy.optimize as opt\n",
    "%matplotlib inline"
   ]
  },
  {
   "cell_type": "code",
   "execution_count": 2,
   "metadata": {
    "collapsed": false
   },
   "outputs": [],
   "source": [
    "#Dados do Compressor\n",
    "fluid = 'Isobutane'\n",
    "D_p = 22.5e-3  #Diâmetro do pistão [m]\n",
    "e = 7.5e-3     #Excentricidade [m]\n",
    "Cb = 38.5e-3   #Comprimento da biela [m]\n",
    "dm = 2e-3      #Reversibilidade eixo-cilindro [m]\n",
    "V_c = 120e-9   #Volume morto [m³]\n",
    "D_os = 8e-3    #Diâmetro do orifício de sucção [m]\n",
    "D_od = 6.5e-3  #Diâmetro do orifício de descarga [m]\n",
    "f = 60         #Rotação [Hz]\n",
    "\n",
    "#Dados do Ciclo\n",
    "T_e = -17      #Temperatura de evaporação [oC]\n",
    "#T_e = 258.15\n",
    "T_c = 54.4     #Temperatura de condensação [oC]\n",
    "T_s = 32.2     #Temperatura de sucção [oC]"
   ]
  },
  {
   "cell_type": "code",
   "execution_count": 3,
   "metadata": {
    "collapsed": false
   },
   "outputs": [],
   "source": [
    "def C_to_K(T): #Converte Celius para Kelvin\n",
    "    return T + 273.15\n",
    "def K_to_C(T): #Converte Kelvin para Celcius\n",
    "    return T - 273.15"
   ]
  },
  {
   "cell_type": "code",
   "execution_count": 4,
   "metadata": {
    "collapsed": false
   },
   "outputs": [],
   "source": [
    "#Propriedades Termodinâmicas\n",
    "p_e = CP.PropsSI('P','T',C_to_K(T_e),'Q',0,fluid)            #Pressão de saturação @ T_e [Pa]\n",
    "p_c = CP.PropsSI('P','T',C_to_K(T_c),'Q',0,fluid)            #Pressão de saturação @ T_c [Pa]"
   ]
  },
  {
   "cell_type": "code",
   "execution_count": 46,
   "metadata": {
    "collapsed": false
   },
   "outputs": [],
   "source": [
    "#Ponto 1\n",
    "p_1 = p_e\n",
    "rho_sl = CP.PropsSI('D','T',C_to_K(T_s),'P',p_1,fluid)       #Densidade na linha de sucção @ T_s,p_1 [kg/m³]\n",
    "s_1 = CP.PropsSI('S','T',C_to_K(T_s),'P',p_1,fluid)          #Entropia específica @ T_s,p_1 [J/kg*K]\n",
    "h_1 = CP.PropsSI('H','T',C_to_K(T_s),'P',p_1,fluid)          #Entalpia específica @ T_s,p_1 [J/kg]\n",
    "v_1 = 1/rho_sl                                               #Volume específico na linha de sucção @ T_s,p_1 [m³/kg]\n",
    "\n",
    "#Ponto 2\n",
    "p_2 = p_c\n",
    "s_2 = s_1\n",
    "h_2 = CP.PropsSI('H','S',s_2,'P',p_2,fluid)\n",
    "v_2 = (CP.PropsSI('D','S',s_2,'P',p_2,fluid))**(-1)\n",
    "\n",
    "#Ponto 3\n",
    "p_3 = p_c\n",
    "h_3 = CP.PropsSI('H','Q',0,'P',p_3,fluid)\n",
    "\n",
    "#Ponto 4\n",
    "p_4 = p_e\n",
    "h_4 = h_3\n",
    "\n",
    "k = np.log(p_1/p_2)/np.log(v_2/v_1)                          #Compressão adiabática e isentrópica para encontrar k = cp/cv"
   ]
  },
  {
   "cell_type": "code",
   "execution_count": 47,
   "metadata": {
    "collapsed": false
   },
   "outputs": [],
   "source": [
    "#Eficiência volumétrica\n",
    "L = e*2                                                      #Stroke [m]\n",
    "V_swept = np.pi*((D_p**2)/4)*L                               #Volume varrido (cilindrada) [m³]\n",
    "C = V_c/V_swept                                              #Fração de volume morto [-]\n",
    "eta_v = 1 + C - C*(p_c/p_e)**(1/k)                           #Eficiência volumétrica [-]"
   ]
  },
  {
   "cell_type": "code",
   "execution_count": 50,
   "metadata": {
    "collapsed": true
   },
   "outputs": [],
   "source": [
    "#Capacidade de Refrigeração\n",
    "V_dot_swept = V_swept*f                                      #Vazão volumétrica [m³/s]\n",
    "m_dot = eta_v * rho_sl * V_dot_swept                         #Vazão mássica [kg/s]\n",
    "Q_dot_e = m_dot * (h_1 - h_4)                                #Capacidade de refrigeração [W]\n",
    "\n",
    "#Potência Consumida\n",
    "W_dot = m_dot * (h_2 - h_1)                                  #Potência consumida [W]"
   ]
  },
  {
   "cell_type": "code",
   "execution_count": 55,
   "metadata": {
    "collapsed": false
   },
   "outputs": [],
   "source": [
    "#Temperatura de Descarga\n",
    "T_2K = CP.PropsSI('T','S',s_2,'P',p_2,fluid)                 #Temperatura de descarga [K]\n",
    "T_2 = K_to_C(T_2K)                                           #Temperatura de descarga [C]"
   ]
  },
  {
   "cell_type": "code",
   "execution_count": 54,
   "metadata": {
    "collapsed": true
   },
   "outputs": [],
   "source": [
    "#Eficiência\n",
    "COP = Q_dot_e/W_dot                                          #Coeficiente de performance [-]\n",
    "COP_Carnot = C_to_K(T_e) / (C_to_K(T_c) - C_to_K(T_e))       #Coeficiente de performance de Carnot [-]\n",
    "eta = COP / COP_Carnot                                       #Eficiência do cliclo [-]"
   ]
  },
  {
   "cell_type": "code",
   "execution_count": null,
   "metadata": {
    "collapsed": true
   },
   "outputs": [],
   "source": [
    "A = np.array([v_1,v_2,v_3,_v4])\n",
    "plt.plot(A,B,\"-\",label=\"Linha\")"
   ]
  }
 ],
 "metadata": {
  "anaconda-cloud": {},
  "kernelspec": {
   "display_name": "Python [default]",
   "language": "python",
   "name": "python3"
  },
  "language_info": {
   "codemirror_mode": {
    "name": "ipython",
    "version": 3
   },
   "file_extension": ".py",
   "mimetype": "text/x-python",
   "name": "python",
   "nbconvert_exporter": "python",
   "pygments_lexer": "ipython3",
   "version": "3.5.2"
  }
 },
 "nbformat": 4,
 "nbformat_minor": 1
}
